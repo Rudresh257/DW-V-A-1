{
 "cells": [
  {
   "cell_type": "code",
   "execution_count": 7,
   "id": "6c0950b7",
   "metadata": {},
   "outputs": [
    {
     "data": {
      "text/plain": [
       "array([0., 0., 0., 0., 1., 0., 0., 0., 0., 0.])"
      ]
     },
     "execution_count": 7,
     "metadata": {},
     "output_type": "execute_result"
    }
   ],
   "source": [
    "#1. Create a null vector of size 10 but the fifth value which is 1.\n",
    "import numpy as np\n",
    "x=np.zeros(10)\n",
    "x[4]=1\n",
    "x"
   ]
  },
  {
   "cell_type": "code",
   "execution_count": 6,
   "id": "5ced95b9",
   "metadata": {},
   "outputs": [
    {
     "data": {
      "text/plain": [
       "array([10, 11, 12, 13, 14, 15, 16, 17, 18, 19, 20, 21, 22, 23, 24, 25, 26,\n",
       "       27, 28, 29, 30, 31, 32, 33, 34, 35, 36, 37, 38, 39, 40, 41, 42, 43,\n",
       "       44, 45, 46, 47, 48, 49])"
      ]
     },
     "execution_count": 6,
     "metadata": {},
     "output_type": "execute_result"
    }
   ],
   "source": [
    "#2. Create a vector with values ranging from 10 to 49.\n",
    "y=np.arange(10,50)\n",
    "y"
   ]
  },
  {
   "cell_type": "code",
   "execution_count": 10,
   "id": "c221ebbf",
   "metadata": {},
   "outputs": [
    {
     "data": {
      "text/plain": [
       "array([[0, 1, 2],\n",
       "       [3, 4, 5],\n",
       "       [6, 7, 8]])"
      ]
     },
     "execution_count": 10,
     "metadata": {},
     "output_type": "execute_result"
    }
   ],
   "source": [
    "#3. Create a 3x3 matrix with values ranging from 0 to 8\n",
    "x =  np.arange(0,9).reshape(3,3)\n",
    "x"
   ]
  },
  {
   "cell_type": "code",
   "execution_count": 13,
   "id": "058f2134",
   "metadata": {},
   "outputs": [
    {
     "name": "stdout",
     "output_type": "stream",
     "text": [
      "Output array of non-zero number:  [1 2 4]\n"
     ]
    }
   ],
   "source": [
    "#4. Find indices of non-zero elements from [1,2,0,0,4,0]\n",
    "import numpy as geek\n",
    "arr = geek.array([1,2,0,0,4,0])\n",
    "out_arr = arr[geek.nonzero(arr)]\n",
    "print (\"Output array of non-zero number: \", out_arr)"
   ]
  },
  {
   "cell_type": "code",
   "execution_count": 15,
   "id": "d2a8f8d5",
   "metadata": {},
   "outputs": [
    {
     "name": "stdout",
     "output_type": "stream",
     "text": [
      "Original Array:\n",
      "[[0.29805148 0.68289868 0.16406849 0.16641234 0.69221529 0.29262457\n",
      "  0.29178307 0.73992637 0.91745807 0.15430844]\n",
      " [0.76302598 0.52237996 0.66938111 0.59080328 0.01718186 0.31816873\n",
      "  0.86554534 0.86752905 0.29998495 0.15014089]\n",
      " [0.83566983 0.23121092 0.92806861 0.33769113 0.05723057 0.08282369\n",
      "  0.6295955  0.18339565 0.20590868 0.25818357]\n",
      " [0.75295151 0.30842402 0.4360891  0.05960217 0.32539543 0.08605076\n",
      "  0.54201821 0.35442932 0.55800587 0.80617586]\n",
      " [0.06134346 0.03891672 0.89972169 0.92827885 0.71701461 0.92391971\n",
      "  0.05241828 0.18163306 0.50180046 0.35659867]\n",
      " [0.74665147 0.78376944 0.26849585 0.854431   0.95859763 0.88535204\n",
      "  0.8145858  0.41544317 0.30736846 0.27961194]\n",
      " [0.91629313 0.77051696 0.90850519 0.19339974 0.49900692 0.55848341\n",
      "  0.02600405 0.1876868  0.23973848 0.70508482]\n",
      " [0.3881773  0.16715381 0.30474943 0.91194427 0.45647871 0.13592176\n",
      "  0.95193526 0.00162304 0.84001014 0.86484874]\n",
      " [0.52463087 0.57930588 0.72249547 0.52817445 0.3062909  0.57400725\n",
      "  0.15701185 0.56869865 0.27098193 0.56271819]\n",
      " [0.14482139 0.83382577 0.85612571 0.96062438 0.48369332 0.13590092\n",
      "  0.51251066 0.30796896 0.29806624 0.46516252]]\n",
      "Minimum value: 0.001623041814496573 Maximum Value: 0.9606243813965952\n"
     ]
    }
   ],
   "source": [
    "#5. Create a 10x10 array with random values and find the minimum and maximum values.\n",
    "import numpy as np\n",
    "x = np.random.random((10,10))\n",
    "print(\"Original Array:\")\n",
    "print(x) \n",
    "xmin, xmax = x.min(), x.max()\n",
    "print(\"Minimum value:\",xmin,\"Maximum Value:\",xmax)\n"
   ]
  },
  {
   "cell_type": "code",
   "execution_count": 16,
   "id": "e56697b7",
   "metadata": {},
   "outputs": [
    {
     "name": "stdout",
     "output_type": "stream",
     "text": [
      "0.6072382939763885\n"
     ]
    }
   ],
   "source": [
    "#6. Create a random vector of size 30 and find the mean value.\n",
    "Z = np.random.random(10)\n",
    "m = Z.mean()\n",
    "print (m)"
   ]
  },
  {
   "cell_type": "code",
   "execution_count": null,
   "id": "9a69f4c3",
   "metadata": {},
   "outputs": [],
   "source": []
  }
 ],
 "metadata": {
  "kernelspec": {
   "display_name": "Python 3 (ipykernel)",
   "language": "python",
   "name": "python3"
  },
  "language_info": {
   "codemirror_mode": {
    "name": "ipython",
    "version": 3
   },
   "file_extension": ".py",
   "mimetype": "text/x-python",
   "name": "python",
   "nbconvert_exporter": "python",
   "pygments_lexer": "ipython3",
   "version": "3.10.0"
  }
 },
 "nbformat": 4,
 "nbformat_minor": 5
}
